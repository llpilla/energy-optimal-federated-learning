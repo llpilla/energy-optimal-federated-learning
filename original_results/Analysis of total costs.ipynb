{
 "cells": [
  {
   "cell_type": "markdown",
   "metadata": {},
   "source": [
    "# Analysis of the experiments with different schedulers for Federated Learning - Total cost"
   ]
  },
  {
   "cell_type": "code",
   "execution_count": null,
   "metadata": {},
   "outputs": [],
   "source": [
    "# modules for the analysis\n",
    "import warnings\n",
    "warnings.filterwarnings('ignore')\n",
    "import pandas as pd\n",
    "import seaborn as sns\n",
    "import matplotlib.pyplot as plt\n",
    "import numpy as np\n",
    "\n",
    "sns.set_theme(style=\"whitegrid\")"
   ]
  },
  {
   "cell_type": "code",
   "execution_count": null,
   "metadata": {},
   "outputs": [],
   "source": [
    "# setting colors\n",
    "c_mardec = [sns.color_palette(\"GnBu\", 10)[8]]\n",
    "c_fedavg = [sns.color_palette(\"YlOrBr\", 10)[8]]\n",
    "c_marin = [sns.color_palette(\"colorblind\", 10)[4]]\n",
    "c_marco = [sns.color_palette(\"PuOr\", 10)[8]]\n",
    "c_mc2mkp = [sns.color_palette(\"BuGn\", 10)[8]]\n",
    "\n",
    "sns.set_palette(c_mc2mkp + c_marin + c_marco + c_mardec + c_fedavg)\n",
    "\n",
    "schedulers = ['(MC)2MKP', 'MarIn', 'MarCo', 'MarDec', 'FedAvg']"
   ]
  },
  {
   "cell_type": "markdown",
   "metadata": {},
   "source": [
    "## Results with random costs"
   ]
  },
  {
   "cell_type": "code",
   "execution_count": null,
   "metadata": {},
   "outputs": [],
   "source": [
    "# reads the result file\n",
    "results = pd.read_csv('results_with_random_costs.csv', comment='#')\n",
    "print('Total cost analysis')\n",
    "print('- Results with random costs')\n",
    "results.head(9)"
   ]
  },
  {
   "cell_type": "code",
   "execution_count": null,
   "metadata": {},
   "outputs": [],
   "source": [
    "# checking the number of results versus the expected number of results\n",
    "expected_number = 41*5*2  # 41 numbers of tasks, 5 schedulers, 2 numbers of resources\n",
    "print(f'-- Number of results: {len(results)} (expected: {expected_number})')"
   ]
  },
  {
   "cell_type": "code",
   "execution_count": null,
   "metadata": {},
   "outputs": [],
   "source": [
    "print('-- Generating figures fig-random-10.pdf and fig-random-100.pdf')\n",
    "\n",
    "# Sets figure parameters\n",
    "plt.figure(figsize=(6,5))\n",
    "plt.rcParams['axes.titlesize'] = 13\n",
    "plt.rcParams['axes.labelsize'] = 13\n",
    "plt.rcParams['xtick.labelsize'] = 13\n",
    "plt.rcParams['ytick.labelsize'] = 13\n",
    "plt.rcParams['legend.fontsize'] = 12\n",
    "plt.xlabel('Number of tasks (T)', fontsize=13)\n",
    "plt.ylabel('Total cost (a.u.)', fontsize=13)\n",
    "plt.xticks(rotation=15)\n",
    "\n",
    "ax = sns.lineplot(data=results[results.Resources == 10],\n",
    "                  x='Tasks',\n",
    "                  y='Total Cost',\n",
    "                  hue='Scheduler',\n",
    "                  style='Scheduler',\n",
    "                  dashes=False,\n",
    "                  markers=True,\n",
    "                  linewidth=2,\n",
    "                  markersize=8)\n",
    "\n",
    "sns.move_legend(ax, \"lower center\", bbox_to_anchor=(.5, 1), ncol=3, title=None, frameon=True)\n",
    "\n",
    "plt.savefig(\"fig-random-10.pdf\", bbox_inches='tight')"
   ]
  },
  {
   "cell_type": "code",
   "execution_count": null,
   "metadata": {},
   "outputs": [],
   "source": [
    "# Sets figure parameters\n",
    "plt.figure(figsize=(6,5))\n",
    "plt.rcParams['axes.titlesize'] = 13\n",
    "plt.rcParams['axes.labelsize'] = 13\n",
    "plt.rcParams['xtick.labelsize'] = 13\n",
    "plt.rcParams['ytick.labelsize'] = 13\n",
    "plt.rcParams['legend.fontsize'] = 12\n",
    "plt.xlabel('Number of tasks (T)', fontsize=13)\n",
    "plt.ylabel('Total cost (a.u.)', fontsize=13)\n",
    "plt.xticks(rotation=15)\n",
    "\n",
    "ax = sns.lineplot(data=results[results.Resources == 100],\n",
    "                  x='Tasks',\n",
    "                  y='Total Cost',\n",
    "                  hue='Scheduler',\n",
    "                  style='Scheduler',\n",
    "                  dashes=False,\n",
    "                  markers=True,\n",
    "                  linewidth=2,\n",
    "                  markersize=8)\n",
    "\n",
    "sns.move_legend(ax, \"lower center\", bbox_to_anchor=(.5, 1), ncol=3, title=None, frameon=True)\n",
    "\n",
    "plt.savefig(\"fig-random-100.pdf\", bbox_inches='tight')"
   ]
  },
  {
   "cell_type": "code",
   "execution_count": null,
   "metadata": {},
   "outputs": [],
   "source": [
    "# Checking how many times other schedulers meet the performance of (MC)^2MKP\n",
    "print('-- Checking how many times other schedulers meet the performance of (MC)2MKP')\n",
    "mc2mkp_cost = results[results['Scheduler'] == '(MC)2MKP']['Total Cost'].reset_index(drop=True)\n",
    "for scheduler in schedulers[1:]:\n",
    "    other_cost = results[results['Scheduler'] == scheduler]['Total Cost'].reset_index(drop=True)\n",
    "    greater = np.sum(other_cost > mc2mkp_cost)\n",
    "    equal = np.sum(other_cost == mc2mkp_cost)\n",
    "    less = np.sum(other_cost < mc2mkp_cost)\n",
    "    print(f'Number of times {scheduler} provides a Total Cost that is greater, equal, or smaller than (MC)^2MKP: ' +\n",
    "          f'{greater}, {equal}, {less}.')"
   ]
  },
  {
   "cell_type": "markdown",
   "metadata": {},
   "source": [
    "---\n",
    "## Results with increasing marginal costs"
   ]
  },
  {
   "cell_type": "code",
   "execution_count": null,
   "metadata": {},
   "outputs": [],
   "source": [
    "# reads the result file\n",
    "results = pd.read_csv('results_with_increasing_marginal_costs.csv', comment='#')\n",
    "print('\\n- Results with increasing marginal costs')\n",
    "results.head(9)"
   ]
  },
  {
   "cell_type": "code",
   "execution_count": null,
   "metadata": {},
   "outputs": [],
   "source": [
    "print(f'-- Number of results: {len(results)} (expected: {expected_number})')"
   ]
  },
  {
   "cell_type": "code",
   "execution_count": null,
   "metadata": {},
   "outputs": [],
   "source": [
    "print('-- Generating figures fig-increasing-10.pdf and fig-increasing-100.pdf')\n",
    "\n",
    "# Sets figure parameters\n",
    "plt.figure(figsize=(6,5))\n",
    "plt.rcParams['axes.titlesize'] = 13\n",
    "plt.rcParams['axes.labelsize'] = 13\n",
    "plt.rcParams['xtick.labelsize'] = 13\n",
    "plt.rcParams['ytick.labelsize'] = 13\n",
    "plt.rcParams['legend.fontsize'] = 12\n",
    "plt.xlabel('Number of tasks (T)', fontsize=13)\n",
    "plt.ylabel('Total cost (a.u.)', fontsize=13)\n",
    "plt.xticks(rotation=15)\n",
    "plt.ylim(0, 160000)\n",
    "\n",
    "ax = sns.lineplot(data=results[results.Resources == 10],\n",
    "                  x='Tasks',\n",
    "                  y='Total Cost',\n",
    "                  hue='Scheduler',\n",
    "                  style='Scheduler',\n",
    "                  dashes=False,\n",
    "                  markers=True,\n",
    "                  linewidth=2,\n",
    "                  markersize=8)\n",
    "\n",
    "sns.move_legend(ax, \"lower center\", bbox_to_anchor=(.5, 1), ncol=3, title=None, frameon=True)\n",
    "\n",
    "plt.savefig(\"fig-increasing-10.pdf\", bbox_inches='tight')"
   ]
  },
  {
   "cell_type": "code",
   "execution_count": null,
   "metadata": {},
   "outputs": [],
   "source": [
    "# Sets figure parameters\n",
    "plt.figure(figsize=(6,5))\n",
    "plt.rcParams['axes.titlesize'] = 13\n",
    "plt.rcParams['axes.labelsize'] = 13\n",
    "plt.rcParams['xtick.labelsize'] = 13\n",
    "plt.rcParams['ytick.labelsize'] = 13\n",
    "plt.rcParams['legend.fontsize'] = 12\n",
    "plt.xlabel('Number of tasks (T)', fontsize=13)\n",
    "plt.ylabel('Total cost (a.u.)', fontsize=13)\n",
    "plt.xticks(rotation=15)\n",
    "plt.ylim(0, 120000)\n",
    "\n",
    "ax = sns.lineplot(data=results[results.Resources == 100],\n",
    "                  x='Tasks',\n",
    "                  y='Total Cost',\n",
    "                  hue='Scheduler',\n",
    "                  style='Scheduler',\n",
    "                  dashes=False,\n",
    "                  markers=True,\n",
    "                  linewidth=2,\n",
    "                  markersize=8)\n",
    "\n",
    "sns.move_legend(ax, \"lower center\", bbox_to_anchor=(.5, 1), ncol=3, title=None, frameon=True)\n",
    "\n",
    "plt.savefig(\"fig-increasing-100.pdf\", bbox_inches='tight')"
   ]
  },
  {
   "cell_type": "code",
   "execution_count": null,
   "metadata": {},
   "outputs": [],
   "source": [
    "# Checking how many times other schedulers meet the performance of (MC)^2MKP\n",
    "print('-- Checking how many times other schedulers meet the performance of (MC)2MKP')\n",
    "mc2mkp_cost = results[results['Scheduler'] == '(MC)2MKP']['Total Cost'].reset_index(drop=True)\n",
    "for scheduler in schedulers[1:]:\n",
    "    other_cost = results[results['Scheduler'] == scheduler]['Total Cost'].reset_index(drop=True)\n",
    "    greater = np.sum(other_cost > mc2mkp_cost)\n",
    "    equal = np.sum(other_cost == mc2mkp_cost)\n",
    "    less = np.sum(other_cost < mc2mkp_cost)\n",
    "    print(f'Number of times {scheduler} provides a Total Cost that is greater, equal, or smaller than (MC)^2MKP: ' +\n",
    "          f'{greater}, {equal}, {less}.')"
   ]
  },
  {
   "cell_type": "markdown",
   "metadata": {},
   "source": [
    "---\n",
    "## Results with constant marginal costs"
   ]
  },
  {
   "cell_type": "code",
   "execution_count": null,
   "metadata": {},
   "outputs": [],
   "source": [
    "# reads the result file\n",
    "results = pd.read_csv('results_with_constant_marginal_costs.csv', comment='#')\n",
    "print('\\n- Results with constant marginal costs')\n",
    "results.head(9)"
   ]
  },
  {
   "cell_type": "code",
   "execution_count": null,
   "metadata": {},
   "outputs": [],
   "source": [
    "print(f'-- Number of results: {len(results)} (expected: {expected_number})')"
   ]
  },
  {
   "cell_type": "code",
   "execution_count": null,
   "metadata": {},
   "outputs": [],
   "source": [
    "print('-- Generating figures fig-constant-10.pdf and fig-constant-100.pdf')\n",
    "\n",
    "# Sets figure parameters\n",
    "plt.figure(figsize=(6,5))\n",
    "plt.rcParams['axes.titlesize'] = 13\n",
    "plt.rcParams['axes.labelsize'] = 13\n",
    "plt.rcParams['xtick.labelsize'] = 13\n",
    "plt.rcParams['ytick.labelsize'] = 13\n",
    "plt.rcParams['legend.fontsize'] = 12\n",
    "plt.xlabel('Number of tasks (T)', fontsize=13)\n",
    "plt.ylabel('Total cost (a.u.)', fontsize=13)\n",
    "plt.xticks(rotation=15)\n",
    "plt.ylim(0, 30000)\n",
    "\n",
    "ax = sns.lineplot(data=results[results.Resources == 10],\n",
    "                  x='Tasks',\n",
    "                  y='Total Cost',\n",
    "                  hue='Scheduler',\n",
    "                  style='Scheduler',\n",
    "                  dashes=False,\n",
    "                  markers=True,\n",
    "                  linewidth=2,\n",
    "                  markersize=8)\n",
    "\n",
    "sns.move_legend(ax, \"lower center\", bbox_to_anchor=(.5, 1), ncol=3, title=None, frameon=True)\n",
    "\n",
    "plt.savefig(\"fig-constant-10.pdf\", bbox_inches='tight')"
   ]
  },
  {
   "cell_type": "code",
   "execution_count": null,
   "metadata": {},
   "outputs": [],
   "source": [
    "# Sets figure parameters\n",
    "plt.figure(figsize=(6,5))\n",
    "plt.rcParams['axes.titlesize'] = 13\n",
    "plt.rcParams['axes.labelsize'] = 13\n",
    "plt.rcParams['xtick.labelsize'] = 13\n",
    "plt.rcParams['ytick.labelsize'] = 13\n",
    "plt.rcParams['legend.fontsize'] = 12\n",
    "plt.xlabel('Number of tasks (T)', fontsize=13)\n",
    "plt.ylabel('Total cost (a.u.)', fontsize=13)\n",
    "plt.xticks(rotation=15)\n",
    "plt.ylim(0, 30000)\n",
    "\n",
    "ax = sns.lineplot(data=results[results.Resources == 100],\n",
    "                  x='Tasks',\n",
    "                  y='Total Cost',\n",
    "                  hue='Scheduler',\n",
    "                  style='Scheduler',\n",
    "                  dashes=False,\n",
    "                  markers=True,\n",
    "                  linewidth=2,\n",
    "                  markersize=8)\n",
    "\n",
    "sns.move_legend(ax, \"lower center\", bbox_to_anchor=(.5, 1), ncol=3, title=None, frameon=True)\n",
    "\n",
    "plt.savefig(\"fig-constant-100.pdf\", bbox_inches='tight')"
   ]
  },
  {
   "cell_type": "code",
   "execution_count": null,
   "metadata": {},
   "outputs": [],
   "source": [
    "# Checking how many times other schedulers meet the performance of (MC)^2MKP\n",
    "print('-- Checking how many times other schedulers meet the performance of (MC)2MKP')\n",
    "mc2mkp_cost = results[results['Scheduler'] == '(MC)2MKP']['Total Cost'].reset_index(drop=True)\n",
    "for scheduler in schedulers[1:]:\n",
    "    other_cost = results[results['Scheduler'] == scheduler]['Total Cost'].reset_index(drop=True)\n",
    "    greater = np.sum(other_cost > mc2mkp_cost)\n",
    "    equal = np.sum(other_cost == mc2mkp_cost)\n",
    "    less = np.sum(other_cost < mc2mkp_cost)\n",
    "    print(f'Number of times {scheduler} provides a Total Cost that is greater, equal, or smaller than (MC)^2MKP: ' +\n",
    "          f'{greater}, {equal}, {less}.')"
   ]
  },
  {
   "cell_type": "markdown",
   "metadata": {},
   "source": [
    "---\n",
    "## Results with decreasing marginal costs"
   ]
  },
  {
   "cell_type": "code",
   "execution_count": null,
   "metadata": {},
   "outputs": [],
   "source": [
    "# reads the result file\n",
    "results = pd.read_csv('results_with_decreasing_marginal_costs.csv', comment='#')\n",
    "print('\\n- Results with decreasing marginal costs')\n",
    "results.head(9)"
   ]
  },
  {
   "cell_type": "code",
   "execution_count": null,
   "metadata": {},
   "outputs": [],
   "source": [
    "print(f'-- Number of results: {len(results)} (expected: {expected_number})')"
   ]
  },
  {
   "cell_type": "code",
   "execution_count": null,
   "metadata": {},
   "outputs": [],
   "source": [
    "print('-- Generating figures fig-decreasing-10.pdf, fig-decreasing-100.pdf, and fig-decreasing-100-zoom.pdf')\n",
    "\n",
    "# Sets figure parameters\n",
    "plt.figure(figsize=(6,5))\n",
    "plt.rcParams['axes.titlesize'] = 13\n",
    "plt.rcParams['axes.labelsize'] = 13\n",
    "plt.rcParams['xtick.labelsize'] = 13\n",
    "plt.rcParams['ytick.labelsize'] = 13\n",
    "plt.rcParams['legend.fontsize'] = 12\n",
    "plt.xlabel('Number of tasks (T)', fontsize=13)\n",
    "plt.ylabel('Total cost (a.u.)', fontsize=13)\n",
    "plt.xticks(rotation=15)\n",
    "plt.ylim(0, 500)\n",
    "\n",
    "ax = sns.lineplot(data=results[results.Resources == 10],\n",
    "                  x='Tasks',\n",
    "                  y='Total Cost',\n",
    "                  hue='Scheduler',\n",
    "                  style='Scheduler',\n",
    "                  dashes=False,\n",
    "                  markers=True,\n",
    "                  linewidth=2,\n",
    "                  markersize=8)\n",
    "\n",
    "sns.move_legend(ax, \"lower center\", bbox_to_anchor=(.5, 1), ncol=3, title=None, frameon=True)\n",
    "\n",
    "plt.savefig(\"fig-decreasing-10.pdf\", bbox_inches='tight')"
   ]
  },
  {
   "cell_type": "code",
   "execution_count": null,
   "metadata": {},
   "outputs": [],
   "source": [
    "# Sets figure parameters\n",
    "plt.figure(figsize=(6,5))\n",
    "plt.rcParams['axes.titlesize'] = 13\n",
    "plt.rcParams['axes.labelsize'] = 13\n",
    "plt.rcParams['xtick.labelsize'] = 13\n",
    "plt.rcParams['ytick.labelsize'] = 13\n",
    "plt.rcParams['legend.fontsize'] = 12\n",
    "plt.xlabel('Number of tasks (T)', fontsize=13)\n",
    "plt.ylabel('Total cost (a.u.)', fontsize=13)\n",
    "plt.xticks(rotation=15)\n",
    "plt.ylim(0, 3000)\n",
    "\n",
    "ax = sns.lineplot(data=results[results.Resources == 100],\n",
    "                  x='Tasks',\n",
    "                  y='Total Cost',\n",
    "                  hue='Scheduler',\n",
    "                  style='Scheduler',\n",
    "                  dashes=False,\n",
    "                  markers=True,\n",
    "                  linewidth=2,\n",
    "                  markersize=8)\n",
    "\n",
    "sns.move_legend(ax, \"lower center\", bbox_to_anchor=(.5, 1), ncol=3, title=None, frameon=True)\n",
    "\n",
    "plt.savefig(\"fig-decreasing-100.pdf\", bbox_inches='tight')"
   ]
  },
  {
   "cell_type": "code",
   "execution_count": null,
   "metadata": {},
   "outputs": [],
   "source": [
    "# Sets figure parameters\n",
    "plt.figure(figsize=(6,5))\n",
    "plt.rcParams['axes.titlesize'] = 13\n",
    "plt.rcParams['axes.labelsize'] = 13\n",
    "plt.rcParams['xtick.labelsize'] = 13\n",
    "plt.rcParams['ytick.labelsize'] = 13\n",
    "plt.rcParams['legend.fontsize'] = 12\n",
    "plt.xlabel('Number of tasks (T)', fontsize=13)\n",
    "plt.ylabel('Total cost (a.u.)', fontsize=13)\n",
    "plt.xticks(rotation=15)\n",
    "plt.ylim(1465, 1472)\n",
    "\n",
    "ax = sns.lineplot(data=results[results.Resources == 100],\n",
    "                  x='Tasks',\n",
    "                  y='Total Cost',\n",
    "                  hue='Scheduler',\n",
    "                  style='Scheduler',\n",
    "                  dashes=False,\n",
    "                  markers=True,\n",
    "                  linewidth=2,\n",
    "                  markersize=8)\n",
    "\n",
    "sns.move_legend(ax, \"lower center\", bbox_to_anchor=(.5, 1), ncol=3, title=None, frameon=True)\n",
    "\n",
    "plt.savefig(\"fig-decreasing-100-zoom.pdf\", bbox_inches='tight')"
   ]
  },
  {
   "cell_type": "code",
   "execution_count": null,
   "metadata": {},
   "outputs": [],
   "source": [
    "# Checking how many times other schedulers meet the performance of (MC)^2MKP\n",
    "print('-- Checking how many times other schedulers meet the performance of (MC)2MKP')\n",
    "mc2mkp_cost = results[results['Scheduler'] == '(MC)2MKP']['Total Cost'].reset_index(drop=True)\n",
    "for scheduler in schedulers[1:]:\n",
    "    other_cost = results[results['Scheduler'] == scheduler]['Total Cost'].reset_index(drop=True)\n",
    "    greater = np.sum(other_cost > mc2mkp_cost)\n",
    "    equal = np.sum(other_cost == mc2mkp_cost)\n",
    "    less = np.sum(other_cost < mc2mkp_cost)\n",
    "    print(f'Number of times {scheduler} provides a Total Cost that is greater, equal, or smaller than (MC)^2MKP: ' +\n",
    "          f'{greater}, {equal}, {less}.')"
   ]
  },
  {
   "cell_type": "markdown",
   "metadata": {},
   "source": [
    "---\n",
    "## Results with constant marginal costs and no upper limits"
   ]
  },
  {
   "cell_type": "code",
   "execution_count": null,
   "metadata": {},
   "outputs": [],
   "source": [
    "# reads the result file\n",
    "results = pd.read_csv('results_with_constant_marginal_costs_no_upper_limit.csv', comment='#')\n",
    "print('\\n- Results with constant marginal costs and no upper limits')\n",
    "results.head(9)"
   ]
  },
  {
   "cell_type": "code",
   "execution_count": null,
   "metadata": {},
   "outputs": [],
   "source": [
    "print(f'-- Number of results: {len(results)} (expected: {expected_number})')"
   ]
  },
  {
   "cell_type": "code",
   "execution_count": null,
   "metadata": {},
   "outputs": [],
   "source": [
    "print('-- Generating figures fig-constant-10-no-u.pdf and fig-constant-100-no-u.pdf')\n",
    "\n",
    "# Sets figure parameters\n",
    "plt.figure(figsize=(6,5))\n",
    "plt.rcParams['axes.titlesize'] = 13\n",
    "plt.rcParams['axes.labelsize'] = 13\n",
    "plt.rcParams['xtick.labelsize'] = 13\n",
    "plt.rcParams['ytick.labelsize'] = 13\n",
    "plt.rcParams['legend.fontsize'] = 12\n",
    "plt.xlabel('Number of tasks (T)', fontsize=13)\n",
    "plt.ylabel('Total cost (a.u.)', fontsize=13)\n",
    "plt.xticks(rotation=15)\n",
    "plt.ylim(0, 30000)\n",
    "\n",
    "ax = sns.lineplot(data=results[results.Resources == 10],\n",
    "                  x='Tasks',\n",
    "                  y='Total Cost',\n",
    "                  hue='Scheduler',\n",
    "                  style='Scheduler',\n",
    "                  dashes=False,\n",
    "                  markers=True,\n",
    "                  linewidth=2,\n",
    "                  markersize=8)\n",
    "\n",
    "sns.move_legend(ax, \"lower center\", bbox_to_anchor=(.5, 1), ncol=3, title=None, frameon=True)\n",
    "\n",
    "plt.savefig(\"fig-constant-10-no-u.pdf\", bbox_inches='tight')"
   ]
  },
  {
   "cell_type": "code",
   "execution_count": null,
   "metadata": {},
   "outputs": [],
   "source": [
    "# Sets figure parameters\n",
    "plt.figure(figsize=(6,5))\n",
    "plt.rcParams['axes.titlesize'] = 13\n",
    "plt.rcParams['axes.labelsize'] = 13\n",
    "plt.rcParams['xtick.labelsize'] = 13\n",
    "plt.rcParams['ytick.labelsize'] = 13\n",
    "plt.rcParams['legend.fontsize'] = 12\n",
    "plt.xlabel('Number of tasks (T)', fontsize=13)\n",
    "plt.ylabel('Total cost (a.u.)', fontsize=13)\n",
    "plt.xticks(rotation=15)\n",
    "plt.ylim(0, 30000)\n",
    "\n",
    "ax = sns.lineplot(data=results[results.Resources == 100],\n",
    "                  x='Tasks',\n",
    "                  y='Total Cost',\n",
    "                  hue='Scheduler',\n",
    "                  style='Scheduler',\n",
    "                  dashes=False,\n",
    "                  markers=True,\n",
    "                  linewidth=2,\n",
    "                  markersize=8)\n",
    "\n",
    "sns.move_legend(ax, \"lower center\", bbox_to_anchor=(.5, 1), ncol=3, title=None, frameon=True)\n",
    "\n",
    "plt.savefig(\"fig-constant-100-no-u.pdf\", bbox_inches='tight')"
   ]
  },
  {
   "cell_type": "code",
   "execution_count": null,
   "metadata": {},
   "outputs": [],
   "source": [
    "# Checking how many times other schedulers meet the performance of (MC)^2MKP\n",
    "print('-- Checking how many times other schedulers meet the performance of (MC)2MKP')\n",
    "mc2mkp_cost = results[results['Scheduler'] == '(MC)2MKP']['Total Cost'].reset_index(drop=True)\n",
    "for scheduler in ['MarIn', 'MarCo', 'MarDecUn', 'FedAvg']:\n",
    "    other_cost = results[results['Scheduler'] == scheduler]['Total Cost'].reset_index(drop=True)\n",
    "    greater = np.sum(other_cost > mc2mkp_cost)\n",
    "    equal = np.sum(other_cost == mc2mkp_cost)\n",
    "    less = np.sum(other_cost < mc2mkp_cost)\n",
    "    print(f'Number of times {scheduler} provides a Total Cost that is greater, equal, or smaller than (MC)^2MKP: ' +\n",
    "          f'{greater}, {equal}, {less}.')"
   ]
  }
 ],
 "metadata": {
  "kernelspec": {
   "display_name": "Python 3",
   "language": "python",
   "name": "python3"
  },
  "language_info": {
   "codemirror_mode": {
    "name": "ipython",
    "version": 3
   },
   "file_extension": ".py",
   "mimetype": "text/x-python",
   "name": "python",
   "nbconvert_exporter": "python",
   "pygments_lexer": "ipython3",
   "version": "3.8.10"
  }
 },
 "nbformat": 4,
 "nbformat_minor": 2
}
