{
 "cells": [
  {
   "cell_type": "markdown",
   "metadata": {},
   "source": [
    "# Analysis of the experiments with different schedulers for Federated Learning - Execution time"
   ]
  },
  {
   "cell_type": "code",
   "execution_count": null,
   "metadata": {},
   "outputs": [],
   "source": [
    "# modules for the analysis\n",
    "import warnings\n",
    "warnings.filterwarnings('ignore')\n",
    "import pandas as pd\n",
    "import seaborn as sns\n",
    "import matplotlib.pyplot as plt\n",
    "import numpy as np\n",
    "from scipy import stats\n",
    "\n",
    "sns.set_theme(style=\"whitegrid\")"
   ]
  },
  {
   "cell_type": "code",
   "execution_count": null,
   "metadata": {},
   "outputs": [],
   "source": [
    "# setting colors\n",
    "c_mardec = [sns.color_palette(\"GnBu\", 10)[8]]\n",
    "c_mardecun = [sns.color_palette(\"GnBu\", 10)[4]]\n",
    "c_fedavg = [sns.color_palette(\"YlOrBr\", 10)[8]]\n",
    "c_marin = [sns.color_palette(\"colorblind\", 10)[4]]\n",
    "c_marco = [sns.color_palette(\"PuOr\", 10)[8]]\n",
    "c_mc2mkp = [sns.color_palette(\"BuGn\", 10)[8]]\n",
    "\n",
    "sns.set_palette(c_mc2mkp + c_marin + c_marco + c_mardecun + c_mardec + c_fedavg)\n",
    "\n",
    "schedulers = ['(MC)2MKP', 'MarIn', 'MarCo', 'MarDecUn', 'MarDec', 'FedAvg']"
   ]
  },
  {
   "cell_type": "markdown",
   "metadata": {},
   "source": [
    "## Results with increasing numbers of tasks"
   ]
  },
  {
   "cell_type": "code",
   "execution_count": null,
   "metadata": {},
   "outputs": [],
   "source": [
    "# reads the result file\n",
    "results = pd.read_csv('results_of_timing_with_fixed_resources.csv', comment='#')\n",
    "print('- Results with increasing numbers of tasks')\n",
    "results.head(9)"
   ]
  },
  {
   "cell_type": "code",
   "execution_count": null,
   "metadata": {},
   "outputs": [],
   "source": [
    "# checking the number of results versus the expected number of results\n",
    "expected_number = 10*6*1*20  # 10 numbers of tasks, 6 schedulers, 1 number of resources, 20 samples\n",
    "print(f'-- Number of results: {len(results)} (expected: {expected_number})')"
   ]
  },
  {
   "cell_type": "code",
   "execution_count": null,
   "metadata": {},
   "outputs": [],
   "source": [
    "# Transforming the values of all samples\n",
    "# Each sample contains the time of 5 repetitions\n",
    "# This transformation gives the average time of the 5 repetitions\n",
    "# and converts from seconds to us\n",
    "results['avg'] = results['Time']*1000000/5"
   ]
  },
  {
   "cell_type": "code",
   "execution_count": null,
   "metadata": {},
   "outputs": [],
   "source": [
    "print('-- Generating figures')\n",
    "\n",
    "# Sets figure parameters\n",
    "plt.figure(figsize=(6,5))\n",
    "plt.rcParams['axes.titlesize'] = 13\n",
    "plt.rcParams['axes.labelsize'] = 13\n",
    "plt.rcParams['xtick.labelsize'] = 13\n",
    "plt.rcParams['ytick.labelsize'] = 13\n",
    "plt.rcParams['legend.fontsize'] = 12\n",
    "plt.xlabel('Number of tasks (T)', fontsize=13)\n",
    "plt.ylabel('Execution time (us, log scale)', fontsize=13)\n",
    "plt.xticks(range(200,2001,200))\n",
    "plt.xticks(rotation=15)\n",
    "\n",
    "ax = sns.lineplot(data=results[results.Resources == 100],\n",
    "                  x='Tasks',\n",
    "                  y='avg',\n",
    "                  hue='Scheduler',\n",
    "                  style='Scheduler',\n",
    "                  dashes=False,\n",
    "                  markers=True,\n",
    "                  linewidth=2,\n",
    "                  markersize=8,\n",
    "                  hue_order=schedulers)\n",
    "\n",
    "plt.ylim(1, 100000000)\n",
    "plt.yticks([1, 10, 100, 1000, 10000, 100000, 1000000, 100000000])\n",
    "plt.yscale('log')\n",
    "\n",
    "sns.move_legend(ax, \"lower center\", bbox_to_anchor=(.5, 1), ncol=3, title=None, frameon=True)\n",
    "\n",
    "plt.savefig(\"fig-time-fixed-resources.pdf\", bbox_inches='tight')"
   ]
  },
  {
   "cell_type": "markdown",
   "metadata": {},
   "source": [
    "### Description of results"
   ]
  },
  {
   "cell_type": "code",
   "execution_count": null,
   "metadata": {},
   "outputs": [],
   "source": [
    "print('- Result description')\n",
    "for sched in schedulers:\n",
    "    for tasks in (200, 2000):\n",
    "        res = results[(results['Scheduler'] == sched) &\n",
    "                      (results['Tasks'] == tasks)].avg\n",
    "        print(f'Scheduler {sched} with {tasks} tasks')\n",
    "        print(res.describe())\n",
    "        print('\\n')"
   ]
  },
  {
   "cell_type": "markdown",
   "metadata": {},
   "source": [
    "### Distributions of the results"
   ]
  },
  {
   "cell_type": "code",
   "execution_count": null,
   "metadata": {},
   "outputs": [],
   "source": [
    "print('-- Checking the distribution of origin for different results')\n",
    "# Checking all schedulers\n",
    "np.random.seed(2022)\n",
    "for sched in schedulers:\n",
    "    print(f'\\nResuls for scheduler {sched}:')\n",
    "    for tasks in range(200,2001,200):\n",
    "        res = list(results[(results['Scheduler'] == sched) &\n",
    "                           (results['Tasks'] == tasks)].avg)\n",
    "        print(f'- {tasks} tasks')\n",
    "        print(stats.kstest(res, 'norm', args=(np.mean(res), np.std(res))))"
   ]
  },
  {
   "cell_type": "code",
   "execution_count": null,
   "metadata": {},
   "outputs": [],
   "source": [
    "# Statistical comparison between MarCo and MarDecUn\n",
    "# Using Mann-Whitney U test as results do not follow normal distributions some times (p-values < 0.05)\n",
    "for tasks in range(200,2001,200):\n",
    "    marco = list(results[(results['Scheduler'] == 'MarCo') &\n",
    "                         (results['Tasks'] == tasks)].avg)\n",
    "    mardec = list(results[(results['Scheduler'] == 'MarDec') &\n",
    "                         (results['Tasks'] == tasks)].avg)\n",
    "    print(f'Mann-Whitney U test - ({tasks} tasks).')\n",
    "    print(stats.mannwhitneyu(marco, mardec, alternative='two-sided'))"
   ]
  },
  {
   "cell_type": "markdown",
   "metadata": {},
   "source": [
    "MarCo and MarDec perform differently (p-values < 0.05)."
   ]
  },
  {
   "cell_type": "markdown",
   "metadata": {},
   "source": [
    "## Results with increasing numbers of resources"
   ]
  },
  {
   "cell_type": "code",
   "execution_count": null,
   "metadata": {},
   "outputs": [],
   "source": [
    "# reads the result file\n",
    "results = pd.read_csv('results_of_timing_with_fixed_tasks.csv', comment='#')\n",
    "print('- Results with increasing numbers of resources')\n",
    "results.head(9)"
   ]
  },
  {
   "cell_type": "code",
   "execution_count": null,
   "metadata": {},
   "outputs": [],
   "source": [
    "# checking the number of results versus the expected number of results\n",
    "expected_number = 1*6*4*20  # 1 number of tasks, 6 schedulers, 4 numbers of resources, 20 samples\n",
    "print(f'-- Number of results: {len(results)} (expected: {expected_number})')"
   ]
  },
  {
   "cell_type": "code",
   "execution_count": null,
   "metadata": {},
   "outputs": [],
   "source": [
    "# Transforming the values of all samples\n",
    "# Each sample contains the time of 5 repetitions\n",
    "# This transformation gives the average time of the 5 repetitions\n",
    "# and converts from seconds to us\n",
    "results['avg'] = results['Time']*1000000/5"
   ]
  },
  {
   "cell_type": "code",
   "execution_count": null,
   "metadata": {},
   "outputs": [],
   "source": [
    "print('-- Generating figures')\n",
    "\n",
    "# Sets figure parameters\n",
    "plt.figure(figsize=(6,5))\n",
    "plt.rcParams['axes.titlesize'] = 13\n",
    "plt.rcParams['axes.labelsize'] = 13\n",
    "plt.rcParams['xtick.labelsize'] = 13\n",
    "plt.rcParams['ytick.labelsize'] = 13\n",
    "plt.rcParams['legend.fontsize'] = 12\n",
    "plt.xlabel('Number of resources (n)', fontsize=13)\n",
    "plt.ylabel('Execution time (us, log scale)', fontsize=13)\n",
    "plt.xticks(range(20,81,20))\n",
    "plt.xticks(rotation=15)\n",
    "\n",
    "ax = sns.lineplot(data=results[results.Tasks == 2000],\n",
    "                  x='Resources',\n",
    "                  y='avg',\n",
    "                  hue='Scheduler',\n",
    "                  style='Scheduler',\n",
    "                  dashes=False,\n",
    "                  markers=True,\n",
    "                  linewidth=2,\n",
    "                  markersize=8,\n",
    "                  hue_order=schedulers)\n",
    "\n",
    "plt.ylim(1, 100000000)\n",
    "plt.yticks([1, 10, 100, 1000, 10000, 100000, 1000000, 100000000])\n",
    "plt.yscale('log')\n",
    "\n",
    "sns.move_legend(ax, \"lower center\", bbox_to_anchor=(.5, 1), ncol=3, title=None, frameon=True)\n",
    "\n",
    "plt.savefig(\"fig-time-fixed-tasks.pdf\", bbox_inches='tight')"
   ]
  },
  {
   "cell_type": "markdown",
   "metadata": {},
   "source": [
    "### Description of results"
   ]
  },
  {
   "cell_type": "code",
   "execution_count": null,
   "metadata": {},
   "outputs": [],
   "source": [
    "print('- Result description')\n",
    "for sched in schedulers:\n",
    "    for resources in (20, 80):\n",
    "        res = results[(results['Scheduler'] == sched) &\n",
    "                      (results['Resources'] == resources)].avg\n",
    "        print(f'Scheduler {sched} with {resources} resources')\n",
    "        print(res.describe())\n",
    "        print('\\n')"
   ]
  },
  {
   "cell_type": "markdown",
   "metadata": {},
   "source": [
    "### Distributions of the results"
   ]
  },
  {
   "cell_type": "code",
   "execution_count": null,
   "metadata": {},
   "outputs": [],
   "source": [
    "print('-- Checking the distribution of origin for different results')\n",
    "# Checking all schedulers\n",
    "np.random.seed(2022)\n",
    "for sched in schedulers:\n",
    "    print(f'\\nResuls for scheduler {sched}:')\n",
    "    for resources in range(20,81,20):\n",
    "        res = list(results[(results['Scheduler'] == sched) &\n",
    "                           (results['Resources'] == resources)].avg)\n",
    "        print(f'- {resources} resources')\n",
    "        print(stats.kstest(res, 'norm', args=(np.mean(res), np.std(res))))"
   ]
  },
  {
   "cell_type": "code",
   "execution_count": null,
   "metadata": {},
   "outputs": [],
   "source": [
    "# Statistical comparison between MarCo and MarDecUn\n",
    "# Using Mann-Whitney U test as results do not follow normal distributions some times (p-values < 0.05)\n",
    "for resources in range(20,81,20):\n",
    "    marco = list(results[(results['Scheduler'] == 'MarCo') &\n",
    "                         (results['Resources'] == resources)].avg)\n",
    "    mardec = list(results[(results['Scheduler'] == 'MarDec') &\n",
    "                         (results['Resources'] == resources)].avg)\n",
    "    print(f'Mann-Whitney U test - ({resources} resources).')\n",
    "    print(stats.mannwhitneyu(marco, mardec, alternative='two-sided'))"
   ]
  },
  {
   "cell_type": "markdown",
   "metadata": {},
   "source": [
    "MarCo and MarDec perform differently (p-values < 0.05)."
   ]
  }
 ],
 "metadata": {
  "kernelspec": {
   "display_name": "Python 3",
   "language": "python",
   "name": "python3"
  },
  "language_info": {
   "codemirror_mode": {
    "name": "ipython",
    "version": 3
   },
   "file_extension": ".py",
   "mimetype": "text/x-python",
   "name": "python",
   "nbconvert_exporter": "python",
   "pygments_lexer": "ipython3",
   "version": "3.8.10"
  }
 },
 "nbformat": 4,
 "nbformat_minor": 2
}
